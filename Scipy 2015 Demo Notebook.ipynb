{
 "cells": [
  {
   "cell_type": "code",
   "execution_count": null,
   "metadata": {
    "collapsed": false
   },
   "outputs": [],
   "source": [
    "from scipy2015_cbnx_demo_code import *"
   ]
  },
  {
   "cell_type": "markdown",
   "metadata": {},
   "source": [
    "## Defining Operations over sets of graphs\n",
    "\n"
   ]
  },
  {
   "cell_type": "code",
   "execution_count": null,
   "metadata": {
    "collapsed": false
   },
   "outputs": [],
   "source": [
    "nodes=[\"a\",\"b\",\"c\",\"d\"]\n",
    "known_ancestral_relations = [(\"a\",\"b\"),(\"a\",\"c\"),(\"a\",\"d\")]\n",
    "orphan_nodes = [\"a\"]\n",
    "G = completeDiGraph(nodes)\n",
    "c1 = create_path_complete_condition(known_ancestral_relations)\n",
    "c2 = create_no_input_node_condition(orphan_nodes)\n",
    "c3 = create_no_self_loops_condition()\n",
    "graph_set = conditionalSubgraphs(G,[c1,c2,c3])\n",
    "print(len([graph.edges() for graph in graph_set]))"
   ]
  },
  {
   "cell_type": "code",
   "execution_count": null,
   "metadata": {
    "collapsed": false
   },
   "outputs": [],
   "source": [
    "nodes=[\"a\",\"b\",\"c\",\"d\"]\n",
    "known_ancestral_relations = [(\"a\",\"b\"),(\"a\",\"c\"),(\"a\",\"d\")]\n",
    "orphan_nodes = [\"a\"]\n",
    "G = completeDiGraph(nodes)\n",
    "\n",
    "f1 = extract_remove_self_loops()\n",
    "G_filtered = filter_Graph(G,[f1])\n",
    "\n",
    "c1 = create_path_complete_condition(known_ancestral_relations)\n",
    "c2 = create_no_input_node_condition(orphan_nodes)\n",
    "graph_set = conditionalSubgraphs(G_filtered,[c1,c2])\n",
    "print(len([graph.edges() for graph in graph_set]))"
   ]
  },
  {
   "cell_type": "code",
   "execution_count": null,
   "metadata": {
    "collapsed": false
   },
   "outputs": [],
   "source": [
    "\"\"\"This shows an example of updating a graph with a new condtion. \n",
    "\"\"\"\n",
    "nodes=[\"a\",\"b\",\"c\",\"d\"]\n",
    "known_ancestral_relations = [(\"a\",\"b\"),(\"a\",\"c\"),(\"a\",\"d\")]\n",
    "orphan_nodes = [\"a\"]\n",
    "known_ancestral_relations2 = [(\"b\",\"c\")]\n",
    "G = completeDiGraph(nodes)\n",
    "f1 = extract_remove_self_loops()\n",
    "G = filter_Graph(G,[f1])\n",
    "\n",
    "c1 = create_path_complete_condition(known_ancestral_relations)\n",
    "c2 = create_no_input_node_condition(orphan_nodes)\n",
    "graph_set = conditionalSubgraphs(G, [c1, c2])\n",
    "\n",
    "c1_2 = create_path_complete_condition(known_ancestral_relations2)\n",
    "graph_set, graph_set2 = new_conditional_graph_set(graph_set,[c1_2])\n",
    "print(len([graph.edges() for graph in graph_set2]))\n",
    "print(len([graph.edges() for graph in graph_set]))"
   ]
  },
  {
   "cell_type": "code",
   "execution_count": null,
   "metadata": {
    "collapsed": false
   },
   "outputs": [],
   "source": [
    "\"\"\"Note: Your conditions can contradict one another to the point of generating no graphs.\n",
    "It can take a while to find this out if you don't filter first.\n",
    "\"\"\"\n",
    "\n",
    "nodes=[\"a\",\"b\",\"c\",\"d\"]\n",
    "known_ancestal_relations = [(\"a\",\"b\"),(\"a\",\"c\"),(\"a\",\"d\")]\n",
    "orphan_nodes=[\"a\",\"c\"]\n",
    "\n",
    "f1 = create_path_complete_condition(known_ancestal_relations)\n",
    "f2 = create_no_input_node_condition(orphan_nodes)\n",
    "G = completeDiGraph(nodes)\n",
    "\n",
    "graph_set = conditionalSubgraphs(G, [f1, f2])\n",
    "\n",
    "print(len([graph.edges() for graph in graph_set]))"
   ]
  },
  {
   "cell_type": "markdown",
   "metadata": {},
   "source": [
    "## Bayesian Network format and sampler"
   ]
  },
  {
   "cell_type": "code",
   "execution_count": null,
   "metadata": {
    "collapsed": true
   },
   "outputs": [],
   "source": [
    "from scipy2015_cbnx_demo_code import *"
   ]
  },
  {
   "cell_type": "code",
   "execution_count": null,
   "metadata": {
    "collapsed": false
   },
   "outputs": [],
   "source": [
    "dist_dict = {\"choice\": np.random.choice}\n",
    "\n",
    "edge_list = [\n",
    "    (\"sprinkler\",\"grass_wet\"),\n",
    "    (\"rain\",\"sprinkler\"),\n",
    "    (\"rain\",\"grass_wet\")\n",
    "]\n",
    "\n",
    "node_prop_list = [\n",
    "    (\"rain\",\n",
    "     {\"state_space\":(\"raining\",\"dry\"), \"sample_function\": \"choice\",\n",
    "      \"parents\":[], \n",
    "      \"distribution\":[.2,.8]\n",
    "     }),\n",
    "    (\"sprinkler\",\n",
    "     {\"state_space\":(\"on\",\"off\"),\"sample_function\": \"choice\",\n",
    "      \"parents\":[\"rain\"], \n",
    "      \"distribution\":{((\"rain\",\"raining\"),):[.01,.99],\n",
    "                      ((\"rain\",\"dry\"),):[.4,.6]}\n",
    "     }),\n",
    "    (\"grass_wet\",\n",
    "     {\"state_space\":(\"wet\",\"notWet\"),\"sample_function\": \"choice\",\n",
    "      \"parents\":[\"rain\",\"sprinkler\"],\n",
    "      \"distribution\":{((\"rain\",\"raining\"),(\"sprinkler\",\"on\")):[.99,.01],\n",
    "                      ((\"rain\",\"raining\"),(\"sprinkler\",\"off\")):[.8,.2],\n",
    "                      ((\"rain\",\"dry\"),(\"sprinkler\",\"on\")):[.9,.1],\n",
    "                      ((\"rain\",\"dry\"),(\"sprinkler\",\"off\")):[0,1]}\n",
    "\n",
    "     })\n",
    "]\n",
    "\n",
    "func_dictionary = dist_dict\n",
    "k = 10000\n",
    "G = nx.DiGraph()\n",
    "G.clear()\n",
    "G.add_edges_from(edge_list)\n",
    "G.add_nodes_from(node_prop_list)\n",
    "test = sample_from_graph(G,func_dictionary,k)\n",
    "\n",
    "\n",
    "for key,value in test.items():\n",
    "    print(str(key) + \": \" + str(value),\"\\n\")\n",
    "\n",
    "print_prob_est(test)"
   ]
  }
 ],
 "metadata": {
  "kernelspec": {
   "display_name": "Python 3",
   "language": "python",
   "name": "python3"
  },
  "language_info": {
   "codemirror_mode": {
    "name": "ipython",
    "version": 3
   },
   "file_extension": ".py",
   "mimetype": "text/x-python",
   "name": "python",
   "nbconvert_exporter": "python",
   "pygments_lexer": "ipython3",
   "version": "3.4.3"
  }
 },
 "nbformat": 4,
 "nbformat_minor": 0
}
