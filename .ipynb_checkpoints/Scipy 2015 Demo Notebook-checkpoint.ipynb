{
 "cells": [
  {
   "cell_type": "code",
   "execution_count": 11,
   "metadata": {
    "collapsed": false
   },
   "outputs": [],
   "source": [
    "from scipy2015_cbnx_demo_code import *"
   ]
  },
  {
   "cell_type": "markdown",
   "metadata": {},
   "source": [
    "## Defining Operations over sets of graphs\n",
    "\n"
   ]
  },
  {
   "cell_type": "code",
   "execution_count": 12,
   "metadata": {
    "collapsed": true
   },
   "outputs": [],
   "source": [
    "nodes=[\"a\",\"b\",\"c\",\"d\"]\n",
    "known_ancestral_relations = [(\"a\",\"b\"),(\"a\",\"c\"),(\"a\",\"d\")]\n",
    "orphan_nodes = [\"a\"]"
   ]
  },
  {
   "cell_type": "code",
   "execution_count": 15,
   "metadata": {
    "collapsed": false
   },
   "outputs": [
    {
     "name": "stdout",
     "output_type": "stream",
     "text": [
      "304\n"
     ]
    }
   ],
   "source": [
    "G = completeDiGraph(nodes)\n",
    "\n",
    "c1 = create_path_complete_condition(known_ancestral_relations)\n",
    "c2 = create_no_input_node_condition(orphan_nodes)\n",
    "c3 = create_no_self_loops_condition()\n",
    "\n",
    "graph_set = conditionalSubgraphs(G,[c1,c2,c3])\n",
    "\n",
    "len(list(graph_set))"
   ]
  },
  {
   "cell_type": "code",
   "execution_count": 16,
   "metadata": {
    "collapsed": false
   },
   "outputs": [
    {
     "data": {
      "text/plain": [
       "304"
      ]
     },
     "execution_count": 16,
     "metadata": {},
     "output_type": "execute_result"
    }
   ],
   "source": [
    "\"\"\" Use filters! They speed up the process.\n",
    "\"\"\"\n",
    "\n",
    "G = completeDiGraph(nodes)\n",
    "\n",
    "f1 = extract_remove_self_loops()\n",
    "G_filtered = filter_Graph(G,[f1])\n",
    "\n",
    "c1 = create_path_complete_condition(known_ancestral_relations)\n",
    "c2 = create_no_input_node_condition(orphan_nodes)\n",
    "graph_set = conditionalSubgraphs(G_filtered,[c1,c2])\n",
    "\n",
    "len(list(graph_set))"
   ]
  },
  {
   "cell_type": "markdown",
   "metadata": {},
   "source": [
    "## Bayesian Network format and sampler"
   ]
  },
  {
   "cell_type": "code",
   "execution_count": null,
   "metadata": {
    "collapsed": true
   },
   "outputs": [],
   "source": [
    "from scipy2015_cbnx_demo_code import *"
   ]
  },
  {
   "cell_type": "code",
   "execution_count": 17,
   "metadata": {
    "collapsed": true
   },
   "outputs": [],
   "source": [
    "node_prop_list = [\n",
    "    \n",
    "    (\"rain\", {\n",
    "        \"state_space\":(\"yes\",\"no\"), \n",
    "        \"sample_function\": \"choice\",\n",
    "        \"parents\":[], \n",
    "        \"distribution\":[.2,.8]\n",
    "     }),\n",
    "    \n",
    "    (\"sprinkler\",{\n",
    "        \"state_space\":(\"on\",\"off\"),\n",
    "        \"sample_function\": \"choice\",\n",
    "        \"parents\":[\"rain\"], \n",
    "        \"distribution\":{\n",
    "            ((\"rain\",\"yes\"),):[.01,.99],\n",
    "            ((\"rain\",\"no\"),):[.4,.6]}\n",
    "     }),\n",
    "    \n",
    "    (\"grass_wet\",{\n",
    "        \"state_space\":(\"wet\",\"dry\"),\n",
    "        \"sample_function\": \"choice\",\n",
    "        \"parents\":[\"rain\",\"sprinkler\"],\n",
    "        \"distribution\":{\n",
    "            ((\"rain\",\"yes\"),(\"sprinkler\",\"on\")):[.99,.01],\n",
    "            ((\"rain\",\"yes\"),(\"sprinkler\",\"off\")):[.8,.2],\n",
    "            ((\"rain\",\"no\"),(\"sprinkler\",\"on\")):[.9,.1],\n",
    "            ((\"rain\",\"no\"),(\"sprinkler\",\"off\")):[0,1]}\n",
    "     })\n",
    "]"
   ]
  },
  {
   "cell_type": "code",
   "execution_count": null,
   "metadata": {
    "collapsed": true
   },
   "outputs": [],
   "source": [
    "dist_dict = {\"choice\": np.random.choice}\n",
    "\n",
    "edge_list = [\n",
    "    (\"sprinkler\",\"grass_wet\"),\n",
    "    (\"rain\",\"sprinkler\"),\n",
    "    (\"rain\",\"grass_wet\")\n",
    "]"
   ]
  },
  {
   "cell_type": "code",
   "execution_count": null,
   "metadata": {
    "collapsed": false
   },
   "outputs": [],
   "source": [
    "func_dictionary = dist_dict\n",
    "k = 10000 # number of samples\n",
    "\n",
    "G = nx.DiGraph()\n",
    "G.clear()\n",
    "G.add_edges_from(edge_list)\n",
    "G.add_nodes_from(node_prop_list)\n",
    "bn_sample = sample_from_graph(G,func_dictionary,k)\n",
    "\n",
    "\n",
    "for key,value in bn_sample.items():\n",
    "    print(str(key) + \": \" + str(value),\"\\n\")"
   ]
  },
  {
   "cell_type": "code",
   "execution_count": null,
   "metadata": {
    "collapsed": false
   },
   "outputs": [],
   "source": [
    "print_prob_est(bn_sample)"
   ]
  }
 ],
 "metadata": {
  "kernelspec": {
   "display_name": "Python 3",
   "language": "python",
   "name": "python3"
  },
  "language_info": {
   "codemirror_mode": {
    "name": "ipython",
    "version": 3
   },
   "file_extension": ".py",
   "mimetype": "text/x-python",
   "name": "python",
   "nbconvert_exporter": "python",
   "pygments_lexer": "ipython3",
   "version": "3.4.3"
  }
 },
 "nbformat": 4,
 "nbformat_minor": 0
}
